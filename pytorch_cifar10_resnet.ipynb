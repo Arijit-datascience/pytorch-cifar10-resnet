{
  "nbformat": 4,
  "nbformat_minor": 0,
  "metadata": {
    "colab": {
      "name": "pytorch_cifar10_resnet.ipynb",
      "provenance": [],
      "collapsed_sections": [],
      "authorship_tag": "ABX9TyOrK425+ihANgZmhCzn5+r5",
      "include_colab_link": true
    },
    "kernelspec": {
      "name": "python3",
      "display_name": "Python 3"
    },
    "language_info": {
      "name": "python"
    },
    "accelerator": "GPU",
    "widgets": {
      "application/vnd.jupyter.widget-state+json": {
        "ca63dd9898a64132bcf6559576bb783e": {
          "model_module": "@jupyter-widgets/controls",
          "model_name": "HBoxModel",
          "state": {
            "_view_name": "HBoxView",
            "_dom_classes": [],
            "_model_name": "HBoxModel",
            "_view_module": "@jupyter-widgets/controls",
            "_model_module_version": "1.5.0",
            "_view_count": null,
            "_view_module_version": "1.5.0",
            "box_style": "",
            "layout": "IPY_MODEL_b684babe1fa341a5b47a595d724c547c",
            "_model_module": "@jupyter-widgets/controls",
            "children": [
              "IPY_MODEL_8577d4f0d8dc4768ac7ab846d1950589",
              "IPY_MODEL_055589082db0451885aa696ac9bd285a"
            ]
          }
        },
        "b684babe1fa341a5b47a595d724c547c": {
          "model_module": "@jupyter-widgets/base",
          "model_name": "LayoutModel",
          "state": {
            "_view_name": "LayoutView",
            "grid_template_rows": null,
            "right": null,
            "justify_content": null,
            "_view_module": "@jupyter-widgets/base",
            "overflow": null,
            "_model_module_version": "1.2.0",
            "_view_count": null,
            "flex_flow": null,
            "width": null,
            "min_width": null,
            "border": null,
            "align_items": null,
            "bottom": null,
            "_model_module": "@jupyter-widgets/base",
            "top": null,
            "grid_column": null,
            "overflow_y": null,
            "overflow_x": null,
            "grid_auto_flow": null,
            "grid_area": null,
            "grid_template_columns": null,
            "flex": null,
            "_model_name": "LayoutModel",
            "justify_items": null,
            "grid_row": null,
            "max_height": null,
            "align_content": null,
            "visibility": null,
            "align_self": null,
            "height": null,
            "min_height": null,
            "padding": null,
            "grid_auto_rows": null,
            "grid_gap": null,
            "max_width": null,
            "order": null,
            "_view_module_version": "1.2.0",
            "grid_template_areas": null,
            "object_position": null,
            "object_fit": null,
            "grid_auto_columns": null,
            "margin": null,
            "display": null,
            "left": null
          }
        },
        "8577d4f0d8dc4768ac7ab846d1950589": {
          "model_module": "@jupyter-widgets/controls",
          "model_name": "FloatProgressModel",
          "state": {
            "_view_name": "ProgressView",
            "style": "IPY_MODEL_d96138aa5f7d4a96a47b9fc24a9bd9d2",
            "_dom_classes": [],
            "description": "",
            "_model_name": "FloatProgressModel",
            "bar_style": "success",
            "max": 170498071,
            "_view_module": "@jupyter-widgets/controls",
            "_model_module_version": "1.5.0",
            "value": 170498071,
            "_view_count": null,
            "_view_module_version": "1.5.0",
            "orientation": "horizontal",
            "min": 0,
            "description_tooltip": null,
            "_model_module": "@jupyter-widgets/controls",
            "layout": "IPY_MODEL_526b57190f1d46d18333de2c8613787c"
          }
        },
        "055589082db0451885aa696ac9bd285a": {
          "model_module": "@jupyter-widgets/controls",
          "model_name": "HTMLModel",
          "state": {
            "_view_name": "HTMLView",
            "style": "IPY_MODEL_83dd4b8dc8394cc1ab10ce0971a7d1fc",
            "_dom_classes": [],
            "description": "",
            "_model_name": "HTMLModel",
            "placeholder": "​",
            "_view_module": "@jupyter-widgets/controls",
            "_model_module_version": "1.5.0",
            "value": " 170499072/? [00:08&lt;00:00, 21225127.67it/s]",
            "_view_count": null,
            "_view_module_version": "1.5.0",
            "description_tooltip": null,
            "_model_module": "@jupyter-widgets/controls",
            "layout": "IPY_MODEL_9284e08ddf7b4b54bd97a64e64016a83"
          }
        },
        "d96138aa5f7d4a96a47b9fc24a9bd9d2": {
          "model_module": "@jupyter-widgets/controls",
          "model_name": "ProgressStyleModel",
          "state": {
            "_view_name": "StyleView",
            "_model_name": "ProgressStyleModel",
            "description_width": "initial",
            "_view_module": "@jupyter-widgets/base",
            "_model_module_version": "1.5.0",
            "_view_count": null,
            "_view_module_version": "1.2.0",
            "bar_color": null,
            "_model_module": "@jupyter-widgets/controls"
          }
        },
        "526b57190f1d46d18333de2c8613787c": {
          "model_module": "@jupyter-widgets/base",
          "model_name": "LayoutModel",
          "state": {
            "_view_name": "LayoutView",
            "grid_template_rows": null,
            "right": null,
            "justify_content": null,
            "_view_module": "@jupyter-widgets/base",
            "overflow": null,
            "_model_module_version": "1.2.0",
            "_view_count": null,
            "flex_flow": null,
            "width": null,
            "min_width": null,
            "border": null,
            "align_items": null,
            "bottom": null,
            "_model_module": "@jupyter-widgets/base",
            "top": null,
            "grid_column": null,
            "overflow_y": null,
            "overflow_x": null,
            "grid_auto_flow": null,
            "grid_area": null,
            "grid_template_columns": null,
            "flex": null,
            "_model_name": "LayoutModel",
            "justify_items": null,
            "grid_row": null,
            "max_height": null,
            "align_content": null,
            "visibility": null,
            "align_self": null,
            "height": null,
            "min_height": null,
            "padding": null,
            "grid_auto_rows": null,
            "grid_gap": null,
            "max_width": null,
            "order": null,
            "_view_module_version": "1.2.0",
            "grid_template_areas": null,
            "object_position": null,
            "object_fit": null,
            "grid_auto_columns": null,
            "margin": null,
            "display": null,
            "left": null
          }
        },
        "83dd4b8dc8394cc1ab10ce0971a7d1fc": {
          "model_module": "@jupyter-widgets/controls",
          "model_name": "DescriptionStyleModel",
          "state": {
            "_view_name": "StyleView",
            "_model_name": "DescriptionStyleModel",
            "description_width": "",
            "_view_module": "@jupyter-widgets/base",
            "_model_module_version": "1.5.0",
            "_view_count": null,
            "_view_module_version": "1.2.0",
            "_model_module": "@jupyter-widgets/controls"
          }
        },
        "9284e08ddf7b4b54bd97a64e64016a83": {
          "model_module": "@jupyter-widgets/base",
          "model_name": "LayoutModel",
          "state": {
            "_view_name": "LayoutView",
            "grid_template_rows": null,
            "right": null,
            "justify_content": null,
            "_view_module": "@jupyter-widgets/base",
            "overflow": null,
            "_model_module_version": "1.2.0",
            "_view_count": null,
            "flex_flow": null,
            "width": null,
            "min_width": null,
            "border": null,
            "align_items": null,
            "bottom": null,
            "_model_module": "@jupyter-widgets/base",
            "top": null,
            "grid_column": null,
            "overflow_y": null,
            "overflow_x": null,
            "grid_auto_flow": null,
            "grid_area": null,
            "grid_template_columns": null,
            "flex": null,
            "_model_name": "LayoutModel",
            "justify_items": null,
            "grid_row": null,
            "max_height": null,
            "align_content": null,
            "visibility": null,
            "align_self": null,
            "height": null,
            "min_height": null,
            "padding": null,
            "grid_auto_rows": null,
            "grid_gap": null,
            "max_width": null,
            "order": null,
            "_view_module_version": "1.2.0",
            "grid_template_areas": null,
            "object_position": null,
            "object_fit": null,
            "grid_auto_columns": null,
            "margin": null,
            "display": null,
            "left": null
          }
        }
      }
    }
  },
  "cells": [
    {
      "cell_type": "markdown",
      "metadata": {
        "id": "view-in-github",
        "colab_type": "text"
      },
      "source": [
        "<a href=\"https://colab.research.google.com/github/Arijit-datascience/pytorch_cifar10/blob/main/pytorch_cifar10_resnet.ipynb\" target=\"_parent\"><img src=\"https://colab.research.google.com/assets/colab-badge.svg\" alt=\"Open In Colab\"/></a>"
      ]
    },
    {
      "cell_type": "code",
      "metadata": {
        "id": "aPvWU8s3_ks5"
      },
      "source": [
        "import torch\n",
        "import torch.optim as optim\n",
        "\n",
        "from torchsummary import summary\n",
        "from torch.optim.lr_scheduler import StepLR, OneCycleLR, ReduceLROnPlateau\n",
        "\n",
        "import os\n",
        "import numpy as np"
      ],
      "execution_count": 1,
      "outputs": []
    },
    {
      "cell_type": "code",
      "metadata": {
        "id": "9Xpy-dXzH7HZ"
      },
      "source": [
        "%%capture\n",
        "!git clone https://github.com/Arijit-datascience/pytorch_cifar10\n",
        "!pip install albumentations==1.0.0"
      ],
      "execution_count": 2,
      "outputs": []
    },
    {
      "cell_type": "code",
      "metadata": {
        "id": "pHm16q55IM8W"
      },
      "source": [
        "from pytorch_cifar10 import main as main\n",
        "from pytorch_cifar10.model import resnet as models\n",
        "from pytorch_cifar10.utils import utils as utils"
      ],
      "execution_count": 3,
      "outputs": []
    },
    {
      "cell_type": "code",
      "metadata": {
        "colab": {
          "base_uri": "https://localhost:8080/",
          "height": 191,
          "referenced_widgets": [
            "ca63dd9898a64132bcf6559576bb783e",
            "b684babe1fa341a5b47a595d724c547c",
            "8577d4f0d8dc4768ac7ab846d1950589",
            "055589082db0451885aa696ac9bd285a",
            "d96138aa5f7d4a96a47b9fc24a9bd9d2",
            "526b57190f1d46d18333de2c8613787c",
            "83dd4b8dc8394cc1ab10ce0971a7d1fc",
            "9284e08ddf7b4b54bd97a64e64016a83"
          ]
        },
        "id": "chPlFqgUI3QO",
        "outputId": "0a4d9c72-e209-4770-f430-0fbcf8328fed"
      },
      "source": [
        "norm_mean,norm_std = utils.cifar10_mean_std()\n",
        "train_transform, test_transform = utils.get_transforms(norm_mean,norm_std)\n",
        "\n",
        "# Extract and transform the data\n",
        "train_set,test_set = utils.get_datasets(train_transform,test_transform)\n",
        "\n",
        "# Targets -> ('plane', 'car', 'bird', 'cat', 'deer', 'dog', 'frog', 'horse', 'ship', 'truck')\n",
        "classes = train_set.classes\n",
        "\n",
        "# Dataloader Arguments & Test/Train Dataloaders - Load part of ETL\n",
        "train_loader,test_loader = utils.get_dataloaders(train_set,test_set)"
      ],
      "execution_count": 4,
      "outputs": [
        {
          "output_type": "stream",
          "text": [
            "Downloading https://www.cs.toronto.edu/~kriz/cifar-10-python.tar.gz to ./data/cifar-10-python.tar.gz\n"
          ],
          "name": "stdout"
        },
        {
          "output_type": "display_data",
          "data": {
            "application/vnd.jupyter.widget-view+json": {
              "model_id": "ca63dd9898a64132bcf6559576bb783e",
              "version_minor": 0,
              "version_major": 2
            },
            "text/plain": [
              "HBox(children=(FloatProgress(value=0.0, max=170498071.0), HTML(value='')))"
            ]
          },
          "metadata": {
            "tags": []
          }
        },
        {
          "output_type": "stream",
          "text": [
            "\n",
            "Extracting ./data/cifar-10-python.tar.gz to ./data\n",
            "Files already downloaded and verified\n",
            "(0.492, 0.483, 0.447) (0.247, 0.243, 0.262)\n",
            "Files already downloaded and verified\n",
            "Files already downloaded and verified\n",
            "CUDA Available? True\n"
          ],
          "name": "stdout"
        }
      ]
    },
    {
      "cell_type": "code",
      "metadata": {
        "id": "szZMrcXBL1e6"
      },
      "source": [
        "# Explore sample images\n",
        "utils.show_sample_images(train_loader, classes, .5, .25, num_of_images = 10)"
      ],
      "execution_count": null,
      "outputs": []
    },
    {
      "cell_type": "code",
      "metadata": {
        "colab": {
          "base_uri": "https://localhost:8080/"
        },
        "id": "nSdnO8CDMf4R",
        "outputId": "320b8a46-a003-497e-c304-d746adf62eed"
      },
      "source": [
        "# Model summary\n",
        "use_cuda = torch.cuda.is_available()\n",
        "device = torch.device(\"cuda\" if use_cuda else \"cpu\")\n",
        "print(device)\n",
        "model = models.ResNet18(\"LN\").to(device)\n",
        "summary(model, input_size=(3, 32, 32))"
      ],
      "execution_count": 5,
      "outputs": [
        {
          "output_type": "stream",
          "text": [
            "cuda\n",
            "----------------------------------------------------------------\n",
            "        Layer (type)               Output Shape         Param #\n",
            "================================================================\n",
            "            Conv2d-1           [-1, 64, 32, 32]           1,728\n",
            "         GroupNorm-2           [-1, 64, 32, 32]             128\n",
            "            Conv2d-3           [-1, 64, 32, 32]          36,864\n",
            "         GroupNorm-4           [-1, 64, 32, 32]             128\n",
            "            Conv2d-5           [-1, 64, 32, 32]          36,864\n",
            "         GroupNorm-6           [-1, 64, 32, 32]             128\n",
            "        BasicBlock-7           [-1, 64, 32, 32]               0\n",
            "            Conv2d-8           [-1, 64, 32, 32]          36,864\n",
            "         GroupNorm-9           [-1, 64, 32, 32]             128\n",
            "           Conv2d-10           [-1, 64, 32, 32]          36,864\n",
            "        GroupNorm-11           [-1, 64, 32, 32]             128\n",
            "       BasicBlock-12           [-1, 64, 32, 32]               0\n",
            "           Conv2d-13          [-1, 128, 32, 32]          73,728\n",
            "        GroupNorm-14          [-1, 128, 32, 32]             256\n",
            "           Conv2d-15          [-1, 128, 32, 32]         147,456\n",
            "        GroupNorm-16          [-1, 128, 32, 32]             256\n",
            "           Conv2d-17          [-1, 128, 32, 32]           8,192\n",
            "        GroupNorm-18          [-1, 128, 32, 32]             256\n",
            "       BasicBlock-19          [-1, 128, 32, 32]               0\n",
            "           Conv2d-20          [-1, 128, 32, 32]         147,456\n",
            "        GroupNorm-21          [-1, 128, 32, 32]             256\n",
            "           Conv2d-22          [-1, 128, 32, 32]         147,456\n",
            "        GroupNorm-23          [-1, 128, 32, 32]             256\n",
            "       BasicBlock-24          [-1, 128, 32, 32]               0\n",
            "           Conv2d-25          [-1, 256, 16, 16]         294,912\n",
            "        GroupNorm-26          [-1, 256, 16, 16]             512\n",
            "           Conv2d-27          [-1, 256, 16, 16]         589,824\n",
            "        GroupNorm-28          [-1, 256, 16, 16]             512\n",
            "           Conv2d-29          [-1, 256, 16, 16]          32,768\n",
            "        GroupNorm-30          [-1, 256, 16, 16]             512\n",
            "       BasicBlock-31          [-1, 256, 16, 16]               0\n",
            "           Conv2d-32          [-1, 256, 16, 16]         589,824\n",
            "        GroupNorm-33          [-1, 256, 16, 16]             512\n",
            "           Conv2d-34          [-1, 256, 16, 16]         589,824\n",
            "        GroupNorm-35          [-1, 256, 16, 16]             512\n",
            "       BasicBlock-36          [-1, 256, 16, 16]               0\n",
            "           Conv2d-37            [-1, 512, 8, 8]       1,179,648\n",
            "        GroupNorm-38            [-1, 512, 8, 8]           1,024\n",
            "           Conv2d-39            [-1, 512, 8, 8]       2,359,296\n",
            "        GroupNorm-40            [-1, 512, 8, 8]           1,024\n",
            "           Conv2d-41            [-1, 512, 8, 8]         131,072\n",
            "        GroupNorm-42            [-1, 512, 8, 8]           1,024\n",
            "       BasicBlock-43            [-1, 512, 8, 8]               0\n",
            "           Conv2d-44            [-1, 512, 8, 8]       2,359,296\n",
            "        GroupNorm-45            [-1, 512, 8, 8]           1,024\n",
            "           Conv2d-46            [-1, 512, 8, 8]       2,359,296\n",
            "        GroupNorm-47            [-1, 512, 8, 8]           1,024\n",
            "       BasicBlock-48            [-1, 512, 8, 8]               0\n",
            "           Linear-49                   [-1, 10]           5,130\n",
            "================================================================\n",
            "Total params: 11,173,962\n",
            "Trainable params: 11,173,962\n",
            "Non-trainable params: 0\n",
            "----------------------------------------------------------------\n",
            "Input size (MB): 0.01\n",
            "Forward/backward pass size (MB): 27.00\n",
            "Params size (MB): 42.63\n",
            "Estimated Total Size (MB): 69.64\n",
            "----------------------------------------------------------------\n"
          ],
          "name": "stdout"
        }
      ]
    },
    {
      "cell_type": "code",
      "metadata": {
        "colab": {
          "base_uri": "https://localhost:8080/"
        },
        "id": "IDfQEl3Q_hDd",
        "outputId": "228c046b-5dbf-49ef-e949-b76ca84b5736"
      },
      "source": [
        "if __name__=='__main__':\n",
        "\n",
        "  EPOCH = 40\n",
        "  batch_size = 256\n",
        "  l1_factor = 0\n",
        "  l2_factor = 0\n",
        "  lr_value = 0.0001\n",
        "  mt_val = 0.9\n",
        "\n",
        "  cuda = torch.cuda.is_available()\n",
        "  device = torch.device(\"cuda\" if cuda else \"cpu\")\n",
        "\n",
        "  utils.seed_everything(1)\n",
        "\n",
        "  optimizer = optim.SGD(model.parameters(), lr=lr_value, momentum=mt_val, weight_decay=l2_factor)\n",
        "  #scheduler = OneCycleLR(optimizer, max_lr=0.1,epochs=EPOCH,steps_per_epoch=len(train_loader))\n",
        "  scheduler = ReduceLROnPlateau(optimizer, factor=0.2, patience=3,verbose=True,mode='max')\n",
        "  \n",
        "  print(\"------------------------------------------\")\n",
        "  train_loss, test_loss, train_acc, test_acc, test_pred, target_pred, target_data = main.main(EPOCH, model, device, train_loader, test_loader, optimizer, scheduler, l1_factor)"
      ],
      "execution_count": 9,
      "outputs": [
        {
          "output_type": "stream",
          "text": [
            "------------------------------------------\n",
            "\n",
            "Epoch 1 : \n",
            "Train set: Average loss: 1.7617, Accuracy: 26.48\n",
            "\n",
            "Test set: Average loss: 0.013, Accuracy: 37.51\n",
            "\n",
            "Epoch 2 : \n",
            "Train set: Average loss: 1.4633, Accuracy: 36.89\n",
            "\n",
            "Test set: Average loss: 0.012, Accuracy: 44.64\n",
            "\n",
            "Epoch 3 : \n",
            "Train set: Average loss: 1.5828, Accuracy: 41.11\n",
            "\n",
            "Test set: Average loss: 0.011, Accuracy: 48.92\n",
            "\n",
            "Epoch 4 : \n",
            "Train set: Average loss: 1.5685, Accuracy: 45.62\n",
            "\n",
            "Test set: Average loss: 0.011, Accuracy: 50.72\n",
            "\n",
            "Epoch 5 : \n",
            "Train set: Average loss: 1.4576, Accuracy: 49.69\n",
            "\n",
            "Test set: Average loss: 0.010, Accuracy: 56.89\n",
            "Epoch     5: reducing learning rate of group 0 to 2.0000e-04.\n",
            "\n",
            "Epoch 6 : \n",
            "Train set: Average loss: 0.9945, Accuracy: 56.67\n",
            "\n",
            "Test set: Average loss: 0.008, Accuracy: 61.40\n",
            "\n",
            "Epoch 7 : \n",
            "Train set: Average loss: 1.1082, Accuracy: 58.22\n",
            "\n",
            "Test set: Average loss: 0.008, Accuracy: 62.68\n",
            "\n",
            "Epoch 8 : \n",
            "Train set: Average loss: 1.0710, Accuracy: 59.08\n",
            "\n",
            "Test set: Average loss: 0.008, Accuracy: 64.08\n",
            "\n",
            "Epoch 9 : \n",
            "Train set: Average loss: 1.1819, Accuracy: 60.29\n",
            "\n",
            "Test set: Average loss: 0.008, Accuracy: 65.40\n",
            "Epoch     9: reducing learning rate of group 0 to 4.0000e-05.\n",
            "\n",
            "Epoch 10 : \n",
            "Train set: Average loss: 1.0457, Accuracy: 62.44\n",
            "\n",
            "Test set: Average loss: 0.007, Accuracy: 66.47\n",
            "\n",
            "Epoch 11 : \n",
            "Train set: Average loss: 0.7039, Accuracy: 62.60\n",
            "\n",
            "Test set: Average loss: 0.007, Accuracy: 67.25\n",
            "\n",
            "Epoch 12 : \n",
            "Train set: Average loss: 0.9849, Accuracy: 62.93\n",
            "\n",
            "Test set: Average loss: 0.007, Accuracy: 67.40\n",
            "\n",
            "Epoch 13 : \n",
            "Train set: Average loss: 0.9050, Accuracy: 63.09\n",
            "\n",
            "Test set: Average loss: 0.007, Accuracy: 67.67\n",
            "Epoch    13: reducing learning rate of group 0 to 8.0000e-06.\n",
            "\n",
            "Epoch 14 : \n",
            "Train set: Average loss: 0.8807, Accuracy: 64.07\n",
            "\n",
            "Test set: Average loss: 0.007, Accuracy: 67.87\n",
            "\n",
            "Epoch 15 : \n",
            "Train set: Average loss: 0.9934, Accuracy: 64.03\n",
            "\n",
            "Test set: Average loss: 0.007, Accuracy: 68.19\n",
            "\n",
            "Epoch 16 : \n",
            "Train set: Average loss: 1.0878, Accuracy: 64.13\n",
            "\n",
            "Test set: Average loss: 0.007, Accuracy: 67.81\n",
            "\n",
            "Epoch 17 : \n",
            "Train set: Average loss: 0.9661, Accuracy: 64.26\n",
            "\n",
            "Test set: Average loss: 0.007, Accuracy: 68.33\n",
            "Epoch    17: reducing learning rate of group 0 to 1.6000e-06.\n",
            "\n",
            "Epoch 18 : \n",
            "Train set: Average loss: 0.8904, Accuracy: 64.28\n",
            "\n",
            "Test set: Average loss: 0.007, Accuracy: 67.95\n",
            "\n",
            "Epoch 19 : \n",
            "Train set: Average loss: 1.0281, Accuracy: 64.18\n",
            "\n",
            "Test set: Average loss: 0.007, Accuracy: 68.08\n",
            "\n",
            "Epoch 20 : \n",
            "Train set: Average loss: 0.8404, Accuracy: 64.28\n",
            "\n",
            "Test set: Average loss: 0.007, Accuracy: 68.04\n"
          ],
          "name": "stdout"
        }
      ]
    },
    {
      "cell_type": "code",
      "metadata": {
        "id": "7y7fZgImFDoe"
      },
      "source": [
        ""
      ],
      "execution_count": null,
      "outputs": []
    }
  ]
}