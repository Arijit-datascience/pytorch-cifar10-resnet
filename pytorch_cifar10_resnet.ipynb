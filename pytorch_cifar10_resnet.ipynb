{
  "nbformat": 4,
  "nbformat_minor": 0,
  "metadata": {
    "colab": {
      "name": "pytorch_cifar10_resnet.ipynb",
      "provenance": [],
      "collapsed_sections": [],
      "authorship_tag": "ABX9TyMKCN6CpbZ1iz4U+9JtcQ0V",
      "include_colab_link": true
    },
    "kernelspec": {
      "name": "python3",
      "display_name": "Python 3"
    },
    "language_info": {
      "name": "python"
    },
    "accelerator": "GPU",
    "widgets": {
      "application/vnd.jupyter.widget-state+json": {
        "4dbefacccc1c4cb19294465f75c5d573": {
          "model_module": "@jupyter-widgets/controls",
          "model_name": "HBoxModel",
          "state": {
            "_view_name": "HBoxView",
            "_dom_classes": [],
            "_model_name": "HBoxModel",
            "_view_module": "@jupyter-widgets/controls",
            "_model_module_version": "1.5.0",
            "_view_count": null,
            "_view_module_version": "1.5.0",
            "box_style": "",
            "layout": "IPY_MODEL_ddb08186ca7040389420f5c202a59da5",
            "_model_module": "@jupyter-widgets/controls",
            "children": [
              "IPY_MODEL_652ed658ef25424082adba6442ee8c0d",
              "IPY_MODEL_aeb96715696843b79fbe412b333ef98f"
            ]
          }
        },
        "ddb08186ca7040389420f5c202a59da5": {
          "model_module": "@jupyter-widgets/base",
          "model_name": "LayoutModel",
          "state": {
            "_view_name": "LayoutView",
            "grid_template_rows": null,
            "right": null,
            "justify_content": null,
            "_view_module": "@jupyter-widgets/base",
            "overflow": null,
            "_model_module_version": "1.2.0",
            "_view_count": null,
            "flex_flow": null,
            "width": null,
            "min_width": null,
            "border": null,
            "align_items": null,
            "bottom": null,
            "_model_module": "@jupyter-widgets/base",
            "top": null,
            "grid_column": null,
            "overflow_y": null,
            "overflow_x": null,
            "grid_auto_flow": null,
            "grid_area": null,
            "grid_template_columns": null,
            "flex": null,
            "_model_name": "LayoutModel",
            "justify_items": null,
            "grid_row": null,
            "max_height": null,
            "align_content": null,
            "visibility": null,
            "align_self": null,
            "height": null,
            "min_height": null,
            "padding": null,
            "grid_auto_rows": null,
            "grid_gap": null,
            "max_width": null,
            "order": null,
            "_view_module_version": "1.2.0",
            "grid_template_areas": null,
            "object_position": null,
            "object_fit": null,
            "grid_auto_columns": null,
            "margin": null,
            "display": null,
            "left": null
          }
        },
        "652ed658ef25424082adba6442ee8c0d": {
          "model_module": "@jupyter-widgets/controls",
          "model_name": "FloatProgressModel",
          "state": {
            "_view_name": "ProgressView",
            "style": "IPY_MODEL_f0a7289134ee4bdc86a95353499cccdf",
            "_dom_classes": [],
            "description": "",
            "_model_name": "FloatProgressModel",
            "bar_style": "success",
            "max": 170498071,
            "_view_module": "@jupyter-widgets/controls",
            "_model_module_version": "1.5.0",
            "value": 170498071,
            "_view_count": null,
            "_view_module_version": "1.5.0",
            "orientation": "horizontal",
            "min": 0,
            "description_tooltip": null,
            "_model_module": "@jupyter-widgets/controls",
            "layout": "IPY_MODEL_f5931a26329048abb1a4d55cb26864ef"
          }
        },
        "aeb96715696843b79fbe412b333ef98f": {
          "model_module": "@jupyter-widgets/controls",
          "model_name": "HTMLModel",
          "state": {
            "_view_name": "HTMLView",
            "style": "IPY_MODEL_e9ad7f693898489e84f4e5f4c2d1e68a",
            "_dom_classes": [],
            "description": "",
            "_model_name": "HTMLModel",
            "placeholder": "​",
            "_view_module": "@jupyter-widgets/controls",
            "_model_module_version": "1.5.0",
            "value": " 170499072/? [00:10&lt;00:00, 16582491.17it/s]",
            "_view_count": null,
            "_view_module_version": "1.5.0",
            "description_tooltip": null,
            "_model_module": "@jupyter-widgets/controls",
            "layout": "IPY_MODEL_db8d9d7a7c8046c68e245eb281bef49d"
          }
        },
        "f0a7289134ee4bdc86a95353499cccdf": {
          "model_module": "@jupyter-widgets/controls",
          "model_name": "ProgressStyleModel",
          "state": {
            "_view_name": "StyleView",
            "_model_name": "ProgressStyleModel",
            "description_width": "initial",
            "_view_module": "@jupyter-widgets/base",
            "_model_module_version": "1.5.0",
            "_view_count": null,
            "_view_module_version": "1.2.0",
            "bar_color": null,
            "_model_module": "@jupyter-widgets/controls"
          }
        },
        "f5931a26329048abb1a4d55cb26864ef": {
          "model_module": "@jupyter-widgets/base",
          "model_name": "LayoutModel",
          "state": {
            "_view_name": "LayoutView",
            "grid_template_rows": null,
            "right": null,
            "justify_content": null,
            "_view_module": "@jupyter-widgets/base",
            "overflow": null,
            "_model_module_version": "1.2.0",
            "_view_count": null,
            "flex_flow": null,
            "width": null,
            "min_width": null,
            "border": null,
            "align_items": null,
            "bottom": null,
            "_model_module": "@jupyter-widgets/base",
            "top": null,
            "grid_column": null,
            "overflow_y": null,
            "overflow_x": null,
            "grid_auto_flow": null,
            "grid_area": null,
            "grid_template_columns": null,
            "flex": null,
            "_model_name": "LayoutModel",
            "justify_items": null,
            "grid_row": null,
            "max_height": null,
            "align_content": null,
            "visibility": null,
            "align_self": null,
            "height": null,
            "min_height": null,
            "padding": null,
            "grid_auto_rows": null,
            "grid_gap": null,
            "max_width": null,
            "order": null,
            "_view_module_version": "1.2.0",
            "grid_template_areas": null,
            "object_position": null,
            "object_fit": null,
            "grid_auto_columns": null,
            "margin": null,
            "display": null,
            "left": null
          }
        },
        "e9ad7f693898489e84f4e5f4c2d1e68a": {
          "model_module": "@jupyter-widgets/controls",
          "model_name": "DescriptionStyleModel",
          "state": {
            "_view_name": "StyleView",
            "_model_name": "DescriptionStyleModel",
            "description_width": "",
            "_view_module": "@jupyter-widgets/base",
            "_model_module_version": "1.5.0",
            "_view_count": null,
            "_view_module_version": "1.2.0",
            "_model_module": "@jupyter-widgets/controls"
          }
        },
        "db8d9d7a7c8046c68e245eb281bef49d": {
          "model_module": "@jupyter-widgets/base",
          "model_name": "LayoutModel",
          "state": {
            "_view_name": "LayoutView",
            "grid_template_rows": null,
            "right": null,
            "justify_content": null,
            "_view_module": "@jupyter-widgets/base",
            "overflow": null,
            "_model_module_version": "1.2.0",
            "_view_count": null,
            "flex_flow": null,
            "width": null,
            "min_width": null,
            "border": null,
            "align_items": null,
            "bottom": null,
            "_model_module": "@jupyter-widgets/base",
            "top": null,
            "grid_column": null,
            "overflow_y": null,
            "overflow_x": null,
            "grid_auto_flow": null,
            "grid_area": null,
            "grid_template_columns": null,
            "flex": null,
            "_model_name": "LayoutModel",
            "justify_items": null,
            "grid_row": null,
            "max_height": null,
            "align_content": null,
            "visibility": null,
            "align_self": null,
            "height": null,
            "min_height": null,
            "padding": null,
            "grid_auto_rows": null,
            "grid_gap": null,
            "max_width": null,
            "order": null,
            "_view_module_version": "1.2.0",
            "grid_template_areas": null,
            "object_position": null,
            "object_fit": null,
            "grid_auto_columns": null,
            "margin": null,
            "display": null,
            "left": null
          }
        }
      }
    }
  },
  "cells": [
    {
      "cell_type": "markdown",
      "metadata": {
        "id": "view-in-github",
        "colab_type": "text"
      },
      "source": [
        "<a href=\"https://colab.research.google.com/github/Arijit-datascience/pytorch_cifar10/blob/main/pytorch_cifar10_resnet.ipynb\" target=\"_parent\"><img src=\"https://colab.research.google.com/assets/colab-badge.svg\" alt=\"Open In Colab\"/></a>"
      ]
    },
    {
      "cell_type": "code",
      "metadata": {
        "id": "aPvWU8s3_ks5"
      },
      "source": [
        "import torch\n",
        "import torch.optim as optim\n",
        "\n",
        "from torchsummary import summary\n",
        "from torch.optim.lr_scheduler import StepLR, OneCycleLR, ReduceLROnPlateau\n",
        "\n",
        "import os\n",
        "import numpy as np"
      ],
      "execution_count": 1,
      "outputs": []
    },
    {
      "cell_type": "code",
      "metadata": {
        "id": "9Xpy-dXzH7HZ"
      },
      "source": [
        "%%capture\n",
        "!git clone https://github.com/Arijit-datascience/pytorch_cifar10\n",
        "!pip install albumentations==1.0.0"
      ],
      "execution_count": 2,
      "outputs": []
    },
    {
      "cell_type": "code",
      "metadata": {
        "id": "pHm16q55IM8W"
      },
      "source": [
        "from pytorch_cifar10 import main as main\n",
        "from pytorch_cifar10.model import resnet as models\n",
        "from pytorch_cifar10.utils import utils as utils"
      ],
      "execution_count": 3,
      "outputs": []
    },
    {
      "cell_type": "code",
      "metadata": {
        "colab": {
          "base_uri": "https://localhost:8080/",
          "height": 191,
          "referenced_widgets": [
            "4dbefacccc1c4cb19294465f75c5d573",
            "ddb08186ca7040389420f5c202a59da5",
            "652ed658ef25424082adba6442ee8c0d",
            "aeb96715696843b79fbe412b333ef98f",
            "f0a7289134ee4bdc86a95353499cccdf",
            "f5931a26329048abb1a4d55cb26864ef",
            "e9ad7f693898489e84f4e5f4c2d1e68a",
            "db8d9d7a7c8046c68e245eb281bef49d"
          ]
        },
        "id": "chPlFqgUI3QO",
        "outputId": "94d600dd-d274-4e6b-aa50-6e51aa726492"
      },
      "source": [
        "norm_mean,norm_std = utils.cifar10_mean_std()\n",
        "train_transform, test_transform = utils.get_transforms(norm_mean,norm_std)\n",
        "\n",
        "# Extract and transform the data\n",
        "train_set,test_set = utils.get_datasets(train_transform,test_transform)\n",
        "\n",
        "# Targets -> ('plane', 'car', 'bird', 'cat', 'deer', 'dog', 'frog', 'horse', 'ship', 'truck')\n",
        "classes = train_set.classes\n",
        "\n",
        "# Dataloader Arguments & Test/Train Dataloaders - Load part of ETL\n",
        "train_loader,test_loader = utils.get_dataloaders(train_set,test_set)"
      ],
      "execution_count": 4,
      "outputs": [
        {
          "output_type": "stream",
          "text": [
            "Downloading https://www.cs.toronto.edu/~kriz/cifar-10-python.tar.gz to ./data/cifar-10-python.tar.gz\n"
          ],
          "name": "stdout"
        },
        {
          "output_type": "display_data",
          "data": {
            "application/vnd.jupyter.widget-view+json": {
              "model_id": "4dbefacccc1c4cb19294465f75c5d573",
              "version_minor": 0,
              "version_major": 2
            },
            "text/plain": [
              "HBox(children=(FloatProgress(value=0.0, max=170498071.0), HTML(value='')))"
            ]
          },
          "metadata": {
            "tags": []
          }
        },
        {
          "output_type": "stream",
          "text": [
            "\n",
            "Extracting ./data/cifar-10-python.tar.gz to ./data\n",
            "Files already downloaded and verified\n",
            "(0.492, 0.483, 0.447) (0.247, 0.243, 0.262)\n",
            "Files already downloaded and verified\n",
            "Files already downloaded and verified\n",
            "CUDA Available? True\n"
          ],
          "name": "stdout"
        }
      ]
    },
    {
      "cell_type": "code",
      "metadata": {
        "id": "szZMrcXBL1e6"
      },
      "source": [
        "# Explore sample images\n",
        "utils.show_sample_images(train_loader, classes, .5, .25, num_of_images = 10)"
      ],
      "execution_count": null,
      "outputs": []
    },
    {
      "cell_type": "code",
      "metadata": {
        "colab": {
          "base_uri": "https://localhost:8080/"
        },
        "id": "nSdnO8CDMf4R",
        "outputId": "221b8c7d-0bb1-4a4a-d5f4-a80e37202048"
      },
      "source": [
        "# Model summary\n",
        "use_cuda = torch.cuda.is_available()\n",
        "device = torch.device(\"cuda\" if use_cuda else \"cpu\")\n",
        "print(device)\n",
        "model = models.ResNet18(\"LN\").to(device)\n",
        "summary(model, input_size=(3, 32, 32))"
      ],
      "execution_count": 5,
      "outputs": [
        {
          "output_type": "stream",
          "text": [
            "cuda\n",
            "----------------------------------------------------------------\n",
            "        Layer (type)               Output Shape         Param #\n",
            "================================================================\n",
            "            Conv2d-1           [-1, 64, 32, 32]           1,728\n",
            "         GroupNorm-2           [-1, 64, 32, 32]             128\n",
            "            Conv2d-3           [-1, 64, 32, 32]          36,864\n",
            "         GroupNorm-4           [-1, 64, 32, 32]             128\n",
            "            Conv2d-5           [-1, 64, 32, 32]          36,864\n",
            "         GroupNorm-6           [-1, 64, 32, 32]             128\n",
            "        BasicBlock-7           [-1, 64, 32, 32]               0\n",
            "            Conv2d-8           [-1, 64, 32, 32]          36,864\n",
            "         GroupNorm-9           [-1, 64, 32, 32]             128\n",
            "           Conv2d-10           [-1, 64, 32, 32]          36,864\n",
            "        GroupNorm-11           [-1, 64, 32, 32]             128\n",
            "       BasicBlock-12           [-1, 64, 32, 32]               0\n",
            "           Conv2d-13          [-1, 128, 32, 32]          73,728\n",
            "        GroupNorm-14          [-1, 128, 32, 32]             256\n",
            "           Conv2d-15          [-1, 128, 32, 32]         147,456\n",
            "        GroupNorm-16          [-1, 128, 32, 32]             256\n",
            "           Conv2d-17          [-1, 128, 32, 32]           8,192\n",
            "        GroupNorm-18          [-1, 128, 32, 32]             256\n",
            "       BasicBlock-19          [-1, 128, 32, 32]               0\n",
            "           Conv2d-20          [-1, 128, 32, 32]         147,456\n",
            "        GroupNorm-21          [-1, 128, 32, 32]             256\n",
            "           Conv2d-22          [-1, 128, 32, 32]         147,456\n",
            "        GroupNorm-23          [-1, 128, 32, 32]             256\n",
            "       BasicBlock-24          [-1, 128, 32, 32]               0\n",
            "           Conv2d-25          [-1, 256, 16, 16]         294,912\n",
            "        GroupNorm-26          [-1, 256, 16, 16]             512\n",
            "           Conv2d-27          [-1, 256, 16, 16]         589,824\n",
            "        GroupNorm-28          [-1, 256, 16, 16]             512\n",
            "           Conv2d-29          [-1, 256, 16, 16]          32,768\n",
            "        GroupNorm-30          [-1, 256, 16, 16]             512\n",
            "       BasicBlock-31          [-1, 256, 16, 16]               0\n",
            "           Conv2d-32          [-1, 256, 16, 16]         589,824\n",
            "        GroupNorm-33          [-1, 256, 16, 16]             512\n",
            "           Conv2d-34          [-1, 256, 16, 16]         589,824\n",
            "        GroupNorm-35          [-1, 256, 16, 16]             512\n",
            "       BasicBlock-36          [-1, 256, 16, 16]               0\n",
            "           Conv2d-37            [-1, 512, 8, 8]       1,179,648\n",
            "        GroupNorm-38            [-1, 512, 8, 8]           1,024\n",
            "           Conv2d-39            [-1, 512, 8, 8]       2,359,296\n",
            "        GroupNorm-40            [-1, 512, 8, 8]           1,024\n",
            "           Conv2d-41            [-1, 512, 8, 8]         131,072\n",
            "        GroupNorm-42            [-1, 512, 8, 8]           1,024\n",
            "       BasicBlock-43            [-1, 512, 8, 8]               0\n",
            "           Conv2d-44            [-1, 512, 8, 8]       2,359,296\n",
            "        GroupNorm-45            [-1, 512, 8, 8]           1,024\n",
            "           Conv2d-46            [-1, 512, 8, 8]       2,359,296\n",
            "        GroupNorm-47            [-1, 512, 8, 8]           1,024\n",
            "       BasicBlock-48            [-1, 512, 8, 8]               0\n",
            "           Linear-49                   [-1, 10]           5,130\n",
            "================================================================\n",
            "Total params: 11,173,962\n",
            "Trainable params: 11,173,962\n",
            "Non-trainable params: 0\n",
            "----------------------------------------------------------------\n",
            "Input size (MB): 0.01\n",
            "Forward/backward pass size (MB): 27.00\n",
            "Params size (MB): 42.63\n",
            "Estimated Total Size (MB): 69.64\n",
            "----------------------------------------------------------------\n"
          ],
          "name": "stdout"
        }
      ]
    },
    {
      "cell_type": "code",
      "metadata": {
        "colab": {
          "base_uri": "https://localhost:8080/"
        },
        "id": "IDfQEl3Q_hDd",
        "outputId": "4af8eb16-ddbf-4f9c-9b2a-ff4fe07c2edb"
      },
      "source": [
        "if __name__=='__main__':\n",
        "    \n",
        "    EPOCH = 40\n",
        "    batch_size = 256\n",
        "    l1_factor = 0\n",
        "    l2_factor = 0.0001\n",
        "    lr_value = 0.001\n",
        "    mt_val = 0.9\n",
        "    \n",
        "    cuda = torch.cuda.is_available()\n",
        "    device = torch.device(\"cuda\" if cuda else \"cpu\")\n",
        "    \n",
        "    utils.seed_everything(1)\n",
        "    \n",
        "    optimizer = optim.Adam(model.parameters(), lr=lr_value, weight_decay=l2_factor)\n",
        "    scheduler = ReduceLROnPlateau(optimizer, factor=0.2, patience=3,verbose=True,mode='max')\n",
        "    \n",
        "    print(\"------------------------------------------\")\n",
        "    train_loss, test_loss, train_acc, test_acc, test_pred, target_pred, target_data = main.main(EPOCH, model, device, train_loader, test_loader, optimizer, scheduler, l1_factor)"
      ],
      "execution_count": 6,
      "outputs": [
        {
          "output_type": "stream",
          "text": [
            "------------------------------------------\n",
            "\n",
            "Epoch 1 : \n",
            "Train set: Average loss: 1.7906, Accuracy: 21.30\n",
            "\n",
            "Test set: Average loss: 0.014, Accuracy: 32.64\n",
            "\n",
            "Epoch 2 : \n",
            "Train set: Average loss: 1.5364, Accuracy: 35.08\n",
            "\n",
            "Test set: Average loss: 0.012, Accuracy: 42.14\n",
            "\n",
            "Epoch 3 : \n",
            "Train set: Average loss: 1.5778, Accuracy: 42.00\n",
            "\n",
            "Test set: Average loss: 0.011, Accuracy: 49.03\n",
            "\n",
            "Epoch 4 : \n",
            "Train set: Average loss: 1.4795, Accuracy: 46.69\n",
            "\n",
            "Test set: Average loss: 0.010, Accuracy: 52.45\n",
            "\n",
            "Epoch 5 : \n",
            "Train set: Average loss: 1.3687, Accuracy: 50.53\n",
            "\n",
            "Test set: Average loss: 0.009, Accuracy: 58.96\n",
            "\n",
            "Epoch 6 : \n",
            "Train set: Average loss: 1.0870, Accuracy: 54.72\n",
            "\n",
            "Test set: Average loss: 0.008, Accuracy: 61.07\n",
            "\n",
            "Epoch 7 : \n",
            "Train set: Average loss: 1.1392, Accuracy: 58.06\n",
            "\n",
            "Test set: Average loss: 0.008, Accuracy: 64.51\n",
            "\n",
            "Epoch 8 : \n",
            "Train set: Average loss: 0.8719, Accuracy: 61.01\n",
            "\n",
            "Test set: Average loss: 0.007, Accuracy: 67.45\n",
            "\n",
            "Epoch 9 : \n",
            "Train set: Average loss: 1.1101, Accuracy: 63.24\n",
            "\n",
            "Test set: Average loss: 0.007, Accuracy: 68.51\n",
            "\n",
            "Epoch 10 : \n",
            "Train set: Average loss: 0.9735, Accuracy: 65.36\n",
            "\n",
            "Test set: Average loss: 0.007, Accuracy: 70.75\n",
            "\n",
            "Epoch 11 : \n",
            "Train set: Average loss: 0.6637, Accuracy: 67.53\n",
            "\n",
            "Test set: Average loss: 0.006, Accuracy: 74.35\n",
            "\n",
            "Epoch 12 : \n",
            "Train set: Average loss: 0.8404, Accuracy: 69.40\n",
            "\n",
            "Test set: Average loss: 0.005, Accuracy: 76.60\n",
            "\n",
            "Epoch 13 : \n",
            "Train set: Average loss: 0.7028, Accuracy: 71.55\n",
            "\n",
            "Test set: Average loss: 0.005, Accuracy: 76.73\n",
            "\n",
            "Epoch 14 : \n",
            "Train set: Average loss: 0.7359, Accuracy: 73.13\n",
            "\n",
            "Test set: Average loss: 0.005, Accuracy: 78.27\n",
            "\n",
            "Epoch 15 : \n",
            "Train set: Average loss: 0.6626, Accuracy: 74.36\n",
            "\n",
            "Test set: Average loss: 0.005, Accuracy: 78.39\n",
            "\n",
            "Epoch 16 : \n",
            "Train set: Average loss: 0.9168, Accuracy: 75.78\n",
            "\n",
            "Test set: Average loss: 0.004, Accuracy: 80.79\n",
            "\n",
            "Epoch 17 : \n",
            "Train set: Average loss: 0.5369, Accuracy: 76.65\n",
            "\n",
            "Test set: Average loss: 0.005, Accuracy: 80.90\n",
            "\n",
            "Epoch 18 : \n",
            "Train set: Average loss: 0.5657, Accuracy: 77.69\n",
            "\n",
            "Test set: Average loss: 0.004, Accuracy: 80.92\n",
            "\n",
            "Epoch 19 : \n",
            "Train set: Average loss: 0.8596, Accuracy: 78.50\n",
            "\n",
            "Test set: Average loss: 0.004, Accuracy: 81.56\n",
            "\n",
            "Epoch 20 : \n",
            "Train set: Average loss: 0.4152, Accuracy: 78.96\n",
            "\n",
            "Test set: Average loss: 0.004, Accuracy: 82.18\n",
            "\n",
            "Epoch 21 : \n",
            "Train set: Average loss: 0.5643, Accuracy: 79.84\n",
            "\n",
            "Test set: Average loss: 0.004, Accuracy: 83.37\n",
            "\n",
            "Epoch 22 : \n",
            "Train set: Average loss: 0.4456, Accuracy: 80.50\n",
            "\n",
            "Test set: Average loss: 0.004, Accuracy: 84.87\n",
            "\n",
            "Epoch 23 : \n",
            "Train set: Average loss: 0.4545, Accuracy: 81.02\n",
            "\n",
            "Test set: Average loss: 0.004, Accuracy: 83.42\n",
            "\n",
            "Epoch 24 : \n",
            "Train set: Average loss: 0.5330, Accuracy: 81.31\n",
            "\n",
            "Test set: Average loss: 0.003, Accuracy: 85.30\n",
            "\n",
            "Epoch 25 : \n",
            "Train set: Average loss: 0.3992, Accuracy: 81.81\n",
            "\n",
            "Test set: Average loss: 0.003, Accuracy: 85.36\n",
            "\n",
            "Epoch 26 : \n",
            "Train set: Average loss: 0.4888, Accuracy: 82.40\n",
            "\n",
            "Test set: Average loss: 0.004, Accuracy: 83.64\n",
            "\n",
            "Epoch 27 : \n",
            "Train set: Average loss: 0.5146, Accuracy: 82.67\n",
            "\n",
            "Test set: Average loss: 0.004, Accuracy: 85.00\n",
            "\n",
            "Epoch 28 : \n",
            "Train set: Average loss: 0.4240, Accuracy: 83.44\n",
            "\n",
            "Test set: Average loss: 0.004, Accuracy: 84.41\n",
            "\n",
            "Epoch 29 : \n",
            "Train set: Average loss: 0.5680, Accuracy: 83.62\n",
            "\n",
            "Test set: Average loss: 0.003, Accuracy: 86.70\n",
            "\n",
            "Epoch 30 : \n",
            "Train set: Average loss: 0.3850, Accuracy: 83.66\n",
            "\n",
            "Test set: Average loss: 0.003, Accuracy: 87.19\n",
            "\n",
            "Epoch 31 : \n",
            "Train set: Average loss: 0.4610, Accuracy: 84.05\n",
            "\n",
            "Test set: Average loss: 0.003, Accuracy: 85.92\n",
            "\n",
            "Epoch 32 : \n",
            "Train set: Average loss: 0.5156, Accuracy: 84.62\n",
            "\n",
            "Test set: Average loss: 0.003, Accuracy: 86.69\n",
            "\n",
            "Epoch 33 : \n",
            "Train set: Average loss: 0.2575, Accuracy: 84.79\n",
            "\n",
            "Test set: Average loss: 0.003, Accuracy: 87.46\n",
            "\n",
            "Epoch 34 : \n",
            "Train set: Average loss: 0.4338, Accuracy: 85.03\n",
            "\n",
            "Test set: Average loss: 0.003, Accuracy: 86.52\n",
            "\n",
            "Epoch 35 : \n",
            "Train set: Average loss: 0.2830, Accuracy: 85.39\n",
            "\n",
            "Test set: Average loss: 0.003, Accuracy: 87.40\n",
            "\n",
            "Epoch 36 : \n",
            "Train set: Average loss: 0.2471, Accuracy: 85.59\n",
            "\n",
            "Test set: Average loss: 0.003, Accuracy: 86.08\n",
            "\n",
            "Epoch 37 : \n",
            "Train set: Average loss: 0.2326, Accuracy: 85.62\n",
            "\n",
            "Test set: Average loss: 0.003, Accuracy: 87.43\n",
            "Epoch    37: reducing learning rate of group 0 to 2.0000e-04.\n",
            "\n",
            "Epoch 38 : \n",
            "Train set: Average loss: 0.2532, Accuracy: 89.28\n",
            "\n",
            "Test set: Average loss: 0.003, Accuracy: 89.84\n",
            "\n",
            "Epoch 39 : \n",
            "Train set: Average loss: 0.3907, Accuracy: 90.16\n",
            "\n",
            "Test set: Average loss: 0.002, Accuracy: 90.15\n",
            "\n",
            "Epoch 40 : \n",
            "Train set: Average loss: 0.2251, Accuracy: 90.57\n",
            "\n",
            "Test set: Average loss: 0.003, Accuracy: 90.03\n"
          ],
          "name": "stdout"
        }
      ]
    },
    {
      "cell_type": "code",
      "metadata": {
        "colab": {
          "base_uri": "https://localhost:8080/",
          "height": 586
        },
        "id": "0z2-n6BBiAa8",
        "outputId": "48513e8d-7b8a-42dc-b2e3-02d16099cb47"
      },
      "source": [
        "misclassified_images = utils.wrong_predictions(model,test_loader, norm_mean, norm_std, classes)"
      ],
      "execution_count": 22,
      "outputs": [
        {
          "output_type": "stream",
          "text": [
            "Total wrong predictions are 997\n"
          ],
          "name": "stdout"
        },
        {
          "output_type": "display_data",
          "data": {
            "image/png": "[encoded data removed]",
            "text/plain": [
              "<Figure size 720x864 with 20 Axes>"
            ]
          },
          "metadata": {
            "tags": [],
            "needs_background": "light"
          }
        }
      ]
    },
    {
      "cell_type": "code",
      "metadata": {
        "id": "ueIgMLf5jN3N"
      },
      "source": [
        ""
      ],
      "execution_count": null,
      "outputs": []
    }
  ]
}